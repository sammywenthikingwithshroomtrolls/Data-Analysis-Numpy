{
  "nbformat": 4,
  "nbformat_minor": 0,
  "metadata": {
    "colab": {
      "provenance": []
    },
    "kernelspec": {
      "name": "python3",
      "display_name": "Python 3"
    },
    "language_info": {
      "name": "python"
    }
  },
  "cells": [
    {
      "cell_type": "code",
      "execution_count": 2,
      "metadata": {
        "id": "Rbs0Ax6PQcN2"
      },
      "outputs": [],
      "source": [
        "import numpy as np"
      ]
    },
    {
      "cell_type": "code",
      "source": [
        "arr1=np.array([1,2,3,4,5,6,7])\n",
        "arr1"
      ],
      "metadata": {
        "colab": {
          "base_uri": "https://localhost:8080/"
        },
        "id": "HVK_fAzoqzk2",
        "outputId": "72c1d43a-eaf3-4585-b07e-b0f216db2c8a"
      },
      "execution_count": 5,
      "outputs": [
        {
          "output_type": "execute_result",
          "data": {
            "text/plain": [
              "array([1, 2, 3, 4, 5])"
            ]
          },
          "metadata": {},
          "execution_count": 5
        }
      ]
    },
    {
      "cell_type": "code",
      "source": [
        "arr2=np.array([[1,2,3,4,5,6,7,8],[1,2,3,4,6,7,7,8]])\n",
        "arr2"
      ],
      "metadata": {
        "colab": {
          "base_uri": "https://localhost:8080/"
        },
        "id": "YzgJy8Ngrg4D",
        "outputId": "d431fede-7cd3-4f78-c865-370c4601cfba"
      },
      "execution_count": 8,
      "outputs": [
        {
          "output_type": "execute_result",
          "data": {
            "text/plain": [
              "array([[1, 2, 3, 4, 5, 6, 7, 8],\n",
              "       [1, 2, 3, 4, 6, 7, 7, 8]])"
            ]
          },
          "metadata": {},
          "execution_count": 8
        }
      ]
    },
    {
      "cell_type": "code",
      "source": [
        "arr1.shape"
      ],
      "metadata": {
        "colab": {
          "base_uri": "https://localhost:8080/"
        },
        "id": "4w6HDVMirFi2",
        "outputId": "a130e0e5-1775-4dd9-ea5d-a0b87b7ef34f"
      },
      "execution_count": 6,
      "outputs": [
        {
          "output_type": "execute_result",
          "data": {
            "text/plain": [
              "(5,)"
            ]
          },
          "metadata": {},
          "execution_count": 6
        }
      ]
    },
    {
      "cell_type": "code",
      "source": [
        "arr1.ndim"
      ],
      "metadata": {
        "colab": {
          "base_uri": "https://localhost:8080/"
        },
        "id": "if9WSB2q2AWE",
        "outputId": "42d36258-c115-447a-8b22-150d04a68915"
      },
      "execution_count": 23,
      "outputs": [
        {
          "output_type": "execute_result",
          "data": {
            "text/plain": [
              "1"
            ]
          },
          "metadata": {},
          "execution_count": 23
        }
      ]
    },
    {
      "cell_type": "code",
      "source": [
        "arr2.shape"
      ],
      "metadata": {
        "colab": {
          "base_uri": "https://localhost:8080/"
        },
        "id": "egzwi2p-rkmn",
        "outputId": "37500604-b46f-4a89-84ee-a7fc64e26123"
      },
      "execution_count": 9,
      "outputs": [
        {
          "output_type": "execute_result",
          "data": {
            "text/plain": [
              "(2, 8)"
            ]
          },
          "metadata": {},
          "execution_count": 9
        }
      ]
    },
    {
      "cell_type": "code",
      "source": [
        "arr9=np.array([[[1,2],[2,3]],[[5,6],[7,8]]])\n",
        "arr9"
      ],
      "metadata": {
        "colab": {
          "base_uri": "https://localhost:8080/"
        },
        "id": "GZSL3gL2-hq1",
        "outputId": "480c7475-c992-46e4-8727-c623505e5d96"
      },
      "execution_count": 45,
      "outputs": [
        {
          "output_type": "execute_result",
          "data": {
            "text/plain": [
              "array([[[1, 2],\n",
              "        [2, 3]],\n",
              "\n",
              "       [[5, 6],\n",
              "        [7, 8]]])"
            ]
          },
          "metadata": {},
          "execution_count": 45
        }
      ]
    },
    {
      "cell_type": "code",
      "source": [
        "arr10=np.array([[[1,2],[2,3]],[[3,4],[4,5]]])\n",
        "arr10\n",
        ""
      ],
      "metadata": {
        "colab": {
          "base_uri": "https://localhost:8080/"
        },
        "id": "J7772ZPUrrQV",
        "outputId": "d57e8184-08cd-4982-d974-4023d07f0a77"
      },
      "execution_count": 18,
      "outputs": [
        {
          "output_type": "execute_result",
          "data": {
            "text/plain": [
              "array([[[1, 2],\n",
              "        [2, 3]],\n",
              "\n",
              "       [[3, 4],\n",
              "        [4, 5]]])"
            ]
          },
          "metadata": {},
          "execution_count": 18
        }
      ]
    },
    {
      "cell_type": "code",
      "source": [
        "arr10.shape"
      ],
      "metadata": {
        "colab": {
          "base_uri": "https://localhost:8080/"
        },
        "id": "-p2mXw27z5Je",
        "outputId": "3dffa580-27cd-4fc2-8390-bb9d2ac44e6d"
      },
      "execution_count": 15,
      "outputs": [
        {
          "output_type": "execute_result",
          "data": {
            "text/plain": [
              "(2, 2, 2)"
            ]
          },
          "metadata": {},
          "execution_count": 15
        }
      ]
    },
    {
      "cell_type": "code",
      "source": [
        "arr2\n"
      ],
      "metadata": {
        "colab": {
          "base_uri": "https://localhost:8080/"
        },
        "id": "c5Vc8qxO1r99",
        "outputId": "88668458-9157-4b20-cbf6-56c807e472b8"
      },
      "execution_count": 21,
      "outputs": [
        {
          "output_type": "execute_result",
          "data": {
            "text/plain": [
              "array([[1, 2, 3, 4, 5, 6, 7, 8],\n",
              "       [1, 2, 3, 4, 6, 7, 7, 8]])"
            ]
          },
          "metadata": {},
          "execution_count": 21
        }
      ]
    },
    {
      "cell_type": "code",
      "source": [
        "arr2.ndim"
      ],
      "metadata": {
        "colab": {
          "base_uri": "https://localhost:8080/"
        },
        "id": "YjpwyGay17cW",
        "outputId": "d27dd84a-fcff-49b9-b71b-7f5a24b4995c"
      },
      "execution_count": 22,
      "outputs": [
        {
          "output_type": "execute_result",
          "data": {
            "text/plain": [
              "2"
            ]
          },
          "metadata": {},
          "execution_count": 22
        }
      ]
    },
    {
      "cell_type": "code",
      "source": [
        "arr11 = np.array([[[[1,2],[3,4]], [[5,6],[7,8]]], [[[9,10],[11,12]], [[13,14],[15,16]]]])\n",
        "arr11"
      ],
      "metadata": {
        "colab": {
          "base_uri": "https://localhost:8080/"
        },
        "id": "DdiQ9O6818ed",
        "outputId": "35d13dcc-9e3a-4adb-d4ca-a5c9d7f6bc70"
      },
      "execution_count": 25,
      "outputs": [
        {
          "output_type": "execute_result",
          "data": {
            "text/plain": [
              "array([[[[ 1,  2],\n",
              "         [ 3,  4]],\n",
              "\n",
              "        [[ 5,  6],\n",
              "         [ 7,  8]]],\n",
              "\n",
              "\n",
              "       [[[ 9, 10],\n",
              "         [11, 12]],\n",
              "\n",
              "        [[13, 14],\n",
              "         [15, 16]]]])"
            ]
          },
          "metadata": {},
          "execution_count": 25
        }
      ]
    },
    {
      "cell_type": "code",
      "source": [
        "arr11.shape"
      ],
      "metadata": {
        "colab": {
          "base_uri": "https://localhost:8080/"
        },
        "id": "hb4YOkiI2Y2B",
        "outputId": "73627818-64c4-42ce-dfe1-6e2d1a951ff2"
      },
      "execution_count": 26,
      "outputs": [
        {
          "output_type": "execute_result",
          "data": {
            "text/plain": [
              "(2, 2, 2, 2)"
            ]
          },
          "metadata": {},
          "execution_count": 26
        }
      ]
    },
    {
      "cell_type": "code",
      "source": [
        "arr12 = np.array([[[[1,2],[3,4]]], [[[9,10],[11,12]]]])\n",
        "arr12\n"
      ],
      "metadata": {
        "colab": {
          "base_uri": "https://localhost:8080/"
        },
        "id": "IoyTe2jw2pyp",
        "outputId": "04d0d575-f752-48fa-dd94-10c9102e7daa"
      },
      "execution_count": 27,
      "outputs": [
        {
          "output_type": "execute_result",
          "data": {
            "text/plain": [
              "array([[[[ 1,  2],\n",
              "         [ 3,  4]]],\n",
              "\n",
              "\n",
              "       [[[ 9, 10],\n",
              "         [11, 12]]]])"
            ]
          },
          "metadata": {},
          "execution_count": 27
        }
      ]
    },
    {
      "cell_type": "code",
      "source": [
        "print(arr12.shape)\n",
        "print(arr12.ndim)\n"
      ],
      "metadata": {
        "colab": {
          "base_uri": "https://localhost:8080/"
        },
        "id": "9Zds08Oy3R1q",
        "outputId": "9da04515-33a4-4a90-fea2-0ca6206468c9"
      },
      "execution_count": 32,
      "outputs": [
        {
          "output_type": "stream",
          "name": "stdout",
          "text": [
            "(2, 1, 2, 2)\n",
            "4\n"
          ]
        }
      ]
    },
    {
      "cell_type": "markdown",
      "source": [
        "here, shape (2,1,2,2) attributes to:                                  \n",
        "                             🔹 First number: 2\n",
        "At the outermost level, there are 2 big elements.\n",
        "Each of these \"big elements\" is still a nested structure, not a simple number.\n",
        "(Think of it like two main folders.)\n",
        "\n",
        "🔹 Second number: 1\n",
        "Inside each \"big element,\" there is 1 group.\n",
        "(Each folder has exactly one subfolder.)\n",
        "\n",
        "🔹 Third number: 2\n",
        "Inside that 1 group, there are 2 rows.\n",
        "(The subfolder has 2 files stacked vertically.)\n",
        "\n",
        "🔹 Fourth number: 2\n",
        "Each row has 2 columns (2 numbers).\n",
        "(Each file has 2 numbers side-by-side.)\n",
        "\n"
      ],
      "metadata": {
        "id": "9Kl-2WOC3lD1"
      }
    },
    {
      "cell_type": "code",
      "source": [
        "arr13 = np.array([[[[1,2]]], [[[9,10]]]])\n",
        "arr13"
      ],
      "metadata": {
        "colab": {
          "base_uri": "https://localhost:8080/"
        },
        "id": "nWSuDX6-2y5M",
        "outputId": "397e0dd8-80b9-4fcb-ca58-34322100a1e7"
      },
      "execution_count": 28,
      "outputs": [
        {
          "output_type": "execute_result",
          "data": {
            "text/plain": [
              "array([[[[ 1,  2]]],\n",
              "\n",
              "\n",
              "       [[[ 9, 10]]]])"
            ]
          },
          "metadata": {},
          "execution_count": 28
        }
      ]
    },
    {
      "cell_type": "code",
      "source": [
        "arr14 = np.array([[[[1,2,3],[3,4,5]]], [[[9,10,11],[11,12,5]]]])\n",
        "arr14"
      ],
      "metadata": {
        "colab": {
          "base_uri": "https://localhost:8080/"
        },
        "id": "Ae0X4Kyu23A_",
        "outputId": "3d6f3aae-bee5-4281-a950-79c3b2904912"
      },
      "execution_count": 33,
      "outputs": [
        {
          "output_type": "execute_result",
          "data": {
            "text/plain": [
              "array([[[[ 1,  2,  3],\n",
              "         [ 3,  4,  5]]],\n",
              "\n",
              "\n",
              "       [[[ 9, 10, 11],\n",
              "         [11, 12,  5]]]])"
            ]
          },
          "metadata": {},
          "execution_count": 33
        }
      ]
    },
    {
      "cell_type": "code",
      "source": [
        "print(arr14.shape)\n",
        "print(arr14.ndim)"
      ],
      "metadata": {
        "colab": {
          "base_uri": "https://localhost:8080/"
        },
        "id": "uSfX_7c45ipP",
        "outputId": "b57c60e9-e2b5-4137-bfa2-a6ec6318993e"
      },
      "execution_count": 34,
      "outputs": [
        {
          "output_type": "stream",
          "name": "stdout",
          "text": [
            "(2, 1, 2, 3)\n",
            "4\n"
          ]
        }
      ]
    },
    {
      "cell_type": "code",
      "source": [
        "arr14.size"
      ],
      "metadata": {
        "colab": {
          "base_uri": "https://localhost:8080/"
        },
        "id": "4tT8fh2_7cxb",
        "outputId": "932efb2e-8676-4b92-abcc-1840a53ece47"
      },
      "execution_count": 35,
      "outputs": [
        {
          "output_type": "execute_result",
          "data": {
            "text/plain": [
              "12"
            ]
          },
          "metadata": {},
          "execution_count": 35
        }
      ]
    },
    {
      "cell_type": "markdown",
      "source": [
        "number of items are size."
      ],
      "metadata": {
        "id": "z3a4dT_C7fge"
      }
    },
    {
      "cell_type": "code",
      "source": [
        "arr14.itemsize"
      ],
      "metadata": {
        "colab": {
          "base_uri": "https://localhost:8080/"
        },
        "id": "7FC4TdCA7km1",
        "outputId": "764f1f5f-b84f-40bd-a898-949b17daf699"
      },
      "execution_count": 36,
      "outputs": [
        {
          "output_type": "execute_result",
          "data": {
            "text/plain": [
              "8"
            ]
          },
          "metadata": {},
          "execution_count": 36
        }
      ]
    },
    {
      "cell_type": "markdown",
      "source": [
        "The amount of memory (in bytes) that one element of the array takes. Why 8 bytes here?                                                                         \n",
        "Because by default, NumPy stores integers as int64 (64 bits = 8 bytes). tem size does NOT depend on the shape of the array.                                                                                                        \n",
        "✅ It only depends on the data type (dtype) of the elements inside.\n",
        "\n",
        "So, for your array with shape (2, 1, 2, 3):\n",
        "\n",
        "Shape tells how many elements you have.\n",
        "\n",
        "Itemsize tells how big each single element is.\n",
        "\n",
        "\n",
        "\n"
      ],
      "metadata": {
        "id": "gXbp_Zky8Bk-"
      }
    },
    {
      "cell_type": "code",
      "source": [
        "arr14.dtype\n"
      ],
      "metadata": {
        "colab": {
          "base_uri": "https://localhost:8080/"
        },
        "id": "-KBDVvjS9HIC",
        "outputId": "49049913-5e05-4331-f2cc-06eb24421877"
      },
      "execution_count": 37,
      "outputs": [
        {
          "output_type": "execute_result",
          "data": {
            "text/plain": [
              "dtype('int64')"
            ]
          },
          "metadata": {},
          "execution_count": 37
        }
      ]
    },
    {
      "cell_type": "code",
      "source": [
        "arr8=np.linspace(10,25,10)\n",
        "arr8"
      ],
      "metadata": {
        "colab": {
          "base_uri": "https://localhost:8080/"
        },
        "id": "W-PxuM8O9eg6",
        "outputId": "82bc7f9f-956a-4e10-d9ab-93bf058fc01b"
      },
      "execution_count": 38,
      "outputs": [
        {
          "output_type": "execute_result",
          "data": {
            "text/plain": [
              "array([10.        , 11.66666667, 13.33333333, 15.        , 16.66666667,\n",
              "       18.33333333, 20.        , 21.66666667, 23.33333333, 25.        ])"
            ]
          },
          "metadata": {},
          "execution_count": 38
        }
      ]
    },
    {
      "cell_type": "code",
      "source": [
        "arr8.dtype"
      ],
      "metadata": {
        "colab": {
          "base_uri": "https://localhost:8080/"
        },
        "id": "6RdkilfS9kfd",
        "outputId": "f747a784-84f6-484b-fdc6-5c024635ce52"
      },
      "execution_count": 39,
      "outputs": [
        {
          "output_type": "execute_result",
          "data": {
            "text/plain": [
              "dtype('float64')"
            ]
          },
          "metadata": {},
          "execution_count": 39
        }
      ]
    },
    {
      "cell_type": "code",
      "source": [
        "arr10.dtype"
      ],
      "metadata": {
        "colab": {
          "base_uri": "https://localhost:8080/"
        },
        "id": "wNaLYmn7-ZNr",
        "outputId": "5b0542d4-f68c-4a7e-d00b-07a109f6f700"
      },
      "execution_count": 41,
      "outputs": [
        {
          "output_type": "execute_result",
          "data": {
            "text/plain": [
              "dtype('int64')"
            ]
          },
          "metadata": {},
          "execution_count": 41
        }
      ]
    },
    {
      "cell_type": "code",
      "source": [
        "arr9"
      ],
      "metadata": {
        "colab": {
          "base_uri": "https://localhost:8080/"
        },
        "id": "EOQr6cOo_krz",
        "outputId": "f5d53012-c1e0-4891-f3f0-294589e0c26d"
      },
      "execution_count": 46,
      "outputs": [
        {
          "output_type": "execute_result",
          "data": {
            "text/plain": [
              "array([[[1, 2],\n",
              "        [2, 3]],\n",
              "\n",
              "       [[5, 6],\n",
              "        [7, 8]]])"
            ]
          },
          "metadata": {},
          "execution_count": 46
        }
      ]
    },
    {
      "cell_type": "code",
      "source": [
        "arr9.dtype"
      ],
      "metadata": {
        "colab": {
          "base_uri": "https://localhost:8080/"
        },
        "id": "uPpN0a23_md5",
        "outputId": "c2eb301c-c9bc-477e-c209-e582e9502ec4"
      },
      "execution_count": 47,
      "outputs": [
        {
          "output_type": "execute_result",
          "data": {
            "text/plain": [
              "dtype('int64')"
            ]
          },
          "metadata": {},
          "execution_count": 47
        }
      ]
    },
    {
      "cell_type": "code",
      "source": [
        "arr9.astype('float')"
      ],
      "metadata": {
        "colab": {
          "base_uri": "https://localhost:8080/"
        },
        "id": "KTgnewgF_zJ-",
        "outputId": "21cd8cf4-2a34-45e7-b704-bc6a02022f49"
      },
      "execution_count": 48,
      "outputs": [
        {
          "output_type": "execute_result",
          "data": {
            "text/plain": [
              "array([[[1., 2.],\n",
              "        [2., 3.]],\n",
              "\n",
              "       [[5., 6.],\n",
              "        [7., 8.]]])"
            ]
          },
          "metadata": {},
          "execution_count": 48
        }
      ]
    },
    {
      "cell_type": "code",
      "source": [
        "arr8.astype('int')"
      ],
      "metadata": {
        "colab": {
          "base_uri": "https://localhost:8080/"
        },
        "id": "vjPalsae_4yB",
        "outputId": "799d0dc6-fb99-4d2c-e9c0-c94673d2015c"
      },
      "execution_count": 49,
      "outputs": [
        {
          "output_type": "execute_result",
          "data": {
            "text/plain": [
              "array([10, 11, 13, 15, 16, 18, 20, 21, 23, 25])"
            ]
          },
          "metadata": {},
          "execution_count": 49
        }
      ]
    },
    {
      "cell_type": "code",
      "source": [
        "arr15=np.array(['a','b','c'])\n",
        "arr15.dtype"
      ],
      "metadata": {
        "colab": {
          "base_uri": "https://localhost:8080/"
        },
        "id": "n5gtJ6gMAGaa",
        "outputId": "0678a886-ba3f-4a00-f570-beb87fcfcb92"
      },
      "execution_count": 51,
      "outputs": [
        {
          "output_type": "execute_result",
          "data": {
            "text/plain": [
              "dtype('<U1')"
            ]
          },
          "metadata": {},
          "execution_count": 51
        }
      ]
    },
    {
      "cell_type": "markdown",
      "source": [
        "\n",
        "\n",
        "1.   < = little-endian (you don't have to care much here)\n",
        "2.   U = Unicode string\n",
        "3.   1 = each item can store 1 character (because your strings were only 'a', 'b', 'c' — 1 character each)\n",
        "\n",
        "\n",
        "\n",
        "\n",
        "\n",
        "\n",
        "\n",
        "\n"
      ],
      "metadata": {
        "id": "juBKMxW0BGG9"
      }
    },
    {
      "cell_type": "code",
      "source": [],
      "metadata": {
        "id": "vs0zHFK5BFT3"
      },
      "execution_count": null,
      "outputs": []
    },
    {
      "cell_type": "code",
      "source": [],
      "metadata": {
        "id": "3-dEDFz0A8Wu"
      },
      "execution_count": null,
      "outputs": []
    }
  ]
}